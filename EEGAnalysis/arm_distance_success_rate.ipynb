{
 "cells": [
  {
   "cell_type": "code",
   "execution_count": 1,
   "metadata": {},
   "outputs": [],
   "source": [
    "import os, sys\n",
    "import pyxdf as xdf\n",
    "import numpy as np\n",
    "import matplotlib.pyplot as plt\n",
    "import seaborn as sns\n",
    "import pandas as pd\n",
    "import random\n",
    "import scipy as sp\n",
    "from scipy import stats\n",
    "import statistics as st\n",
    "\n",
    "from collections import Counter\n",
    "\n",
    "\n",
    "markers_path = \"C:\\\\Users\\\\USUARIO\\\\Documents\\\\Pompeu Fabra\\\\Analyzing EEG\\\\EEG_recordings\\\\Markers\\\\\"\n",
    "\n",
    "arm_logs_path = \"C:\\\\Users\\\\USUARIO\\\\Documents\\\\Pompeu Fabra\\\\Analyzing EEG\\\\\""
   ]
  },
  {
   "cell_type": "code",
   "execution_count": 2,
   "metadata": {},
   "outputs": [],
   "source": [
    "pathlist = [\"ArmConGroup\\\\Anna S\\\\Day 1\\\\log_arms.csv\", \"ArmConGroup\\\\Anna S\\\\Day 2\\\\log_arms.csv\",\n",
    "            \"ArmConGroup\\\\Emily\\\\Day 1\\\\log_arms.csv\", \"ArmConGroup\\\\Emily\\\\Day 2\\\\log_arms.csv\",\n",
    "            \"ArmConGroup\\\\Joseba\\\\Day 1\\\\log_arms.csv\", \"ArmConGroup\\\\Joseba\\\\Day 2\\\\log_arms.csv\",\n",
    "            \"ArmConGroup\\\\Yao\\\\Day 1\\\\log_arms.csv\", \"ArmConGroup\\\\Yao\\\\Day 2\\\\log_arms.csv\",             \n",
    "            \"ArmExpGroup\\\\Anna B\\\\Day 1\\\\log_arms.csv\", \"ArmExpGroup\\\\Anna B\\\\Day 2\\\\log_arms.csv\",\n",
    "            \"ArmExpGroup\\\\Anna G\\\\Day 1\\\\log_arms.csv\", \"ArmExpGroup\\\\Anna G\\\\Day 2\\\\log_arms.csv\",\n",
    "            \"ArmExpGroup\\\\Dimi\\\\Day 1\\\\log_arms.csv\", \"ArmExpGroup\\\\Dimi\\\\Day 2\\\\log_arms.csv\",\n",
    "            \"ArmExpGroup\\\\Natasha\\\\Day 1\\\\log_arms.csv\", \"ArmExpGroup\\\\Natasha\\\\Day 2\\log_arms.csv\"]  \n",
    "\n",
    "def get_name(path):\n",
    "    el = path.split(\"\\\\\")\n",
    "    eln = [i for i in el if i not in (\"\", \"ArmExpGroup\",\"ArmConGroup\", \"log_arms.csv\")]\n",
    "    return eln"
   ]
  },
  {
   "cell_type": "code",
   "execution_count": 3,
   "metadata": {},
   "outputs": [],
   "source": [
    "subjectdictplots = {\"Anna S\": \"Con1\", \"Emily\" :\"Con2\", \"Joseba\": \"Con3\", \"Yao\": \"Con4\",\"Anna B\": \"Exp1\",\n",
    "               \"Anna G\": \"Exp2\",\"Dimi\": \"Exp3\", \"Natasha\": \"Exp4\"}\n",
    "\n",
    "\n",
    "def d_samples(pathlist):\n",
    "    distancedict = {}\n",
    "    for file in pathlist:\n",
    "        name = get_name(file)[0]\n",
    "        day = get_name(file)[1]\n",
    "        nameday = (subjectdictplots[name], day)\n",
    "        logarms = pd.read_csv(arm_logs_path + file, header=None, index_col=False)\n",
    "        arm_movements = list(logarms[0])\n",
    "        timer = list(logarms[1])\n",
    "        distance = list(map(lambda x2, x1: abs(abs(x2) - abs(x1)), arm_movements [1::2], arm_movements[::2]))\n",
    "        time_taken = timer[1::2]\n",
    "\n",
    "\n",
    "   \n",
    "        distancedict[nameday] = distance\n",
    "    \n",
    "    return distancedict\n",
    "\n",
    "ddict = d_samples(pathlist)"
   ]
  },
  {
   "cell_type": "code",
   "execution_count": 4,
   "metadata": {},
   "outputs": [],
   "source": [
    "subjectlist = []\n",
    "daylist = []\n",
    "\n",
    "for key in ddict:\n",
    "    for i in range(len(ddict[key])):\n",
    "        subjectlist.append(key[0])\n",
    "        daylist.append(key[1])\n",
    "\n",
    "dislist = []\n",
    "        \n",
    "for key in ddict:\n",
    "    dislist.extend(ddict[key])\n",
    "    \n",
    "    \n",
    "#ddict.keys()"
   ]
  },
  {
   "cell_type": "code",
   "execution_count": 5,
   "metadata": {},
   "outputs": [],
   "source": [
    "dist_exp_1_1 = ddict.get(('Exp1', 'Day 1'))\n",
    "dist_exp_1_2 = ddict.get(('Exp1', 'Day 2'))\n",
    "dist_exp_2_1 = ddict.get(('Exp2', 'Day 1'))\n",
    "dist_exp_2_2 = ddict.get(('Exp2', 'Day 2'))\n",
    "dist_exp_3_1 = ddict.get(('Exp3', 'Day 1')) \n",
    "dist_exp_3_2 = ddict.get(('Exp3', 'Day 2'))\n",
    "dist_exp_4_1 = ddict.get(('Exp4', 'Day 1'))\n",
    "dist_exp_4_2 = ddict.get(('Exp4', 'Day 2'))\n",
    "dist_con_1_1 = ddict.get(('Con1', 'Day 1'))\n",
    "dist_con_1_2 = ddict.get(('Con1', 'Day 2'))\n",
    "dist_con_2_1 = ddict.get(('Con2', 'Day 1'))\n",
    "dist_con_2_2 = ddict.get(('Con2', 'Day 2'))\n",
    "dist_con_3_1 = ddict.get(('Con3', 'Day 1'))\n",
    "dist_con_3_2 = ddict.get(('Con3', 'Day 2'))\n",
    "dist_con_4_1 = ddict.get(('Con4', 'Day 1'))\n",
    "dist_con_4_2 = ddict.get(('Con4', 'Day 2'))   \n",
    "\n",
    "exp1_dist_median = [st.median(dist_exp_1_1), st.median(dist_exp_2_1), st.median(dist_exp_3_1), st.median(dist_exp_4_1)]\n",
    "\n",
    "exp2_dist_median = [st.median(dist_exp_1_2), st.median(dist_exp_2_2), st.median(dist_exp_3_2), st.median(dist_exp_4_2)] \n",
    "\n",
    "con1_dist_median = [st.median(dist_con_1_1), st.median(dist_con_2_1), st.median(dist_con_3_1), st.median(dist_con_4_1)]\n",
    "\n",
    "con2_dist_median = [st.median(dist_con_1_2), st.median(dist_con_2_2), st.median(dist_con_3_2), st.median(dist_con_4_2)]\n"
   ]
  },
  {
   "cell_type": "code",
   "execution_count": 6,
   "metadata": {},
   "outputs": [
    {
     "data": {
      "text/plain": [
       "MannwhitneyuResult(statistic=1636866691.0, pvalue=2.3856735708820914e-25)"
      ]
     },
     "execution_count": 6,
     "metadata": {},
     "output_type": "execute_result"
    }
   ],
   "source": [
    "# normalizing samples to 15302\n",
    "\n",
    "len(dist_exp_4_1) #15302 len(dist_exp_1_1) #16119   16119 - 15302 = 817\n",
    "\n",
    "fixed_dist_exp_1_1 = dist_exp_1_1[408:15711]\n",
    "\n",
    "fixed_dist_exp_2_1 = dist_exp_2_1[116:15819]\n",
    "\n",
    "fixed_dist_exp_3_1 = dist_exp_3_1[774:16076] #16851\n",
    "\n",
    "fixed_dist_exp_4_1 = dist_exp_4_1\n",
    "\n",
    "#fixed_dist_allexp = list(map(lambda *l: l, fixed_dist_exp_1_1, fixed_dist_exp_2_1, fixed_dist_exp_3_1, fixed_dist_exp_4_1))\n",
    "\n",
    "#len(fixed_dist_allexp) # 15302\n",
    "\n",
    "fixed_dist_allexp1 = fixed_dist_exp_1_1 + fixed_dist_exp_2_1 + fixed_dist_exp_3_1 + fixed_dist_exp_4_1\n",
    "\n",
    "len(fixed_dist_allexp1)# 61610//4 = 15402\n",
    "\n",
    "fixed_dist_allexp1 = fixed_dist_allexp1[1683:59927]\n",
    "\n",
    "# normalizing samples to 14561\n",
    "\n",
    "len(dist_exp_2_2) # 14561\n",
    "\n",
    "fixed_dist_exp_1_2 = dist_exp_1_2[692:15253]# 15945 - 14561 = 1384\n",
    "\n",
    "fixed_dist_exp_3_2 = dist_exp_3_2[680:15241] # 15920 - 14561 = 1359\n",
    "\n",
    "fixed_dist_exp_4_2 = dist_exp_4_2[333:14894] # 15226 - 14561 = 665\n",
    "\n",
    "fixed_dist_exp_2_2 = dist_exp_2_2\n",
    "\n",
    "fixed_dist_allexp2 = fixed_dist_exp_1_2 + fixed_dist_exp_2_2 + fixed_dist_exp_3_2 + fixed_dist_exp_4_2\n",
    "\n",
    "len(fixed_dist_allexp2)# 58244 // 4 = 14561\n",
    "\n",
    "len(fixed_dist_allexp1)\n",
    "\n",
    "#sp.stats.wilcoxon(fixed_dist_allexp1, fixed_dist_allexp2) # p = 7.561388886032573e-36\n",
    "sp.stats.mannwhitneyu(fixed_dist_allexp1, fixed_dist_allexp2) # 2.3856735708820914e-25"
   ]
  },
  {
   "cell_type": "code",
   "execution_count": 7,
   "metadata": {},
   "outputs": [
    {
     "data": {
      "text/plain": [
       "MannwhitneyuResult(statistic=1371917737.5, pvalue=9.921377539014482e-254)"
      ]
     },
     "execution_count": 7,
     "metadata": {},
     "output_type": "execute_result"
    }
   ],
   "source": [
    "len(dist_con_1_1) # 13940\n",
    "\n",
    "fixed_dist_con_2_1 = dist_con_2_1[88:14028]  # 14116 - 13940 = 176\n",
    "\n",
    "fixed_dist_con_3_1 = dist_con_3_1[392:14332]  # 14724 - 13940 = 784\n",
    "\n",
    "fixed_dist_con_4_1 = dist_con_4_1[389:14329]  # 14718 - 13940 = 778\n",
    "\n",
    "fixed_dist_con_1_1 = dist_con_1_1\n",
    "\n",
    "\n",
    "fixed_dist_allcon1 = fixed_dist_con_1_1 + fixed_dist_con_2_1 + fixed_dist_con_3_1 + fixed_dist_con_4_1 # 55760 / 4 = 13940\n",
    "\n",
    "\n",
    "len(dist_con_4_2) # 14056\n",
    "\n",
    "fixed_dist_con_1_2 = dist_con_1_2[73:]\n",
    "\n",
    "fixed_dist_con_2_2 = dist_con_2_2[396:14452]  # 14849 - 14056 = 793\n",
    "\n",
    "fixed_dist_con_3_2 = dist_con_3_2[627:14683] # 15309 - 14056 = 1253\n",
    "\n",
    "fixed_dist_con_4_2 = dist_con_4_2\n",
    "\n",
    "fixed_dist_allcon2 = fixed_dist_con_1_2 + fixed_dist_con_2_2 + fixed_dist_con_3_2 + fixed_dist_con_4_2 # 56224\n",
    "\n",
    "fixed_dist_allcon2 = fixed_dist_allcon2[232:55992]\n",
    "\n",
    "#sp.stats.wilcoxon(fixed_dist_allcon1, fixed_dist_allcon2) # pvalue=2.3638416704811126e-258\n",
    "\n",
    "sp.stats.mannwhitneyu(fixed_dist_allcon1, fixed_dist_allcon2) # pvalue=9.921377539014482e-254"
   ]
  },
  {
   "cell_type": "code",
   "execution_count": 26,
   "metadata": {},
   "outputs": [
    {
     "data": {
      "image/png": "[encoded data removed]",
      "text/plain": [
       "<Figure size 842.4x595.44 with 1 Axes>"
      ]
     },
     "metadata": {},
     "output_type": "display_data"
    }
   ],
   "source": [
    "# check for normality per data set\n",
    "#sp.stats.shapiro(con1_dist_median)\n",
    "\n",
    "overall_median_day1 = exp1_dist_median + con1_dist_median\n",
    "\n",
    "overall_median_day2 = exp2_dist_median + con2_dist_median\n",
    "\n",
    "overall_day1_series = pd.Series(np.array(overall_median_day1)*1000, name=\"Day 1\")\n",
    "overall_day2_series = pd.Series(np.array(overall_median_day2)*1000, name=\"Day 2\")\n",
    "overall_df = pd.concat([overall_day1_series, overall_day2_series], axis=1)\n",
    "\n",
    "errors = [0.5, 0.25, 0.75]\n",
    "\n",
    "sns.set(rc={'figure.figsize':(11.7,8.27)})\n",
    "\n",
    "plt.axes(xlabel=\"Overall Distance for all subjects\", ylabel=\"Distance in meters\")\n",
    "\n",
    "sns.boxplot(data=overall_df, palette=\"Set1\", saturation=1, linewidth=5, width=0.3)\n",
    "\n",
    "plt.savefig(\"overall_distance.png\")\n",
    "\n",
    "plt.show()\n",
    "\n",
    "dist1 = fixed_dist_allexp1 + fixed_dist_allcon1\n",
    "dist2 = fixed_dist_allcon2 + fixed_dist_allexp2\n"
   ]
  },
  {
   "cell_type": "code",
   "execution_count": 13,
   "metadata": {},
   "outputs": [
    {
     "data": {
      "image/png": "[encoded data removed]",
      "text/plain": [
       "<Figure size 842.4x595.44 with 1 Axes>"
      ]
     },
     "metadata": {},
     "output_type": "display_data"
    },
    {
     "data": {
      "text/plain": [
       "0.28965000000003016"
      ]
     },
     "execution_count": 13,
     "metadata": {},
     "output_type": "execute_result"
    }
   ],
   "source": [
    "mediandist_day1_expseries = pd.Series(np.array(exp1_dist_median)*1000, name=\"Day 1\")\n",
    "\n",
    "mediandist_day2_expseries = pd.Series(np.array(exp2_dist_median)*1000, name=\"Day 2\")\n",
    "\n",
    "mediandistframe_4_exp = pd.concat([mediandist_day1_expseries, mediandist_day2_expseries], axis = 1)\n",
    "\n",
    "sns.set(rc={'figure.figsize':(11.7,8.27)})\n",
    "\n",
    "plt.axes(xlabel=\"Overall Distance for experimental subjects\", ylabel=\"Distance in meters\")\n",
    "\n",
    "sns.boxplot(data=mediandistframe_4_exp, palette=\"YlGnBu_r\", saturation=1, linewidth=5, width=0.3)\n",
    "\n",
    "plt.savefig(\"Exp1 vs exp2 dist.png\")\n",
    "\n",
    "plt.show()\n",
    "\n",
    "np.median(np.array(exp2_dist_median)*1000)"
   ]
  },
  {
   "cell_type": "code",
   "execution_count": 14,
   "metadata": {},
   "outputs": [
    {
     "data": {
      "image/png": "[encoded data removed]",
      "text/plain": [
       "<Figure size 842.4x595.44 with 1 Axes>"
      ]
     },
     "metadata": {},
     "output_type": "display_data"
    }
   ],
   "source": [
    "mediandist_day1_conseries = pd.Series(np.array(con1_dist_median)*1000, name= \"Day 1\")\n",
    "\n",
    "mediandist_day2_conseries = pd.Series(np.array(con2_dist_median)*1000, name= \"Day 2\")\n",
    "\n",
    "mediandistframe_4_con = pd.concat([mediandist_day1_conseries, mediandist_day2_conseries], axis = 1)\n",
    "\n",
    "sns.set(rc={'figure.figsize':(11.7,8.27)})\n",
    "\n",
    "plt.axes(xlabel=\"Overall Distance for control subjects\", ylabel=\"Distance in meters\")\n",
    "\n",
    "sns.boxplot(data=mediandistframe_4_con, palette=\"magma\", saturation=1, linewidth=5, width=0.3)\n",
    "\n",
    "plt.savefig(\"Con1 vs con2 dist.png\")\n",
    "\n",
    "plt.show()"
   ]
  },
  {
   "cell_type": "code",
   "execution_count": 19,
   "metadata": {},
   "outputs": [
    {
     "data": {
      "image/png": "[encoded data removed]",
      "text/plain": [
       "<Figure size 842.4x595.44 with 1 Axes>"
      ]
     },
     "metadata": {},
     "output_type": "display_data"
    }
   ],
   "source": [
    "exp_median1 = pd.Series(np.array(exp1_dist_median)*1000, name=\"Exp. group Day 1\")\n",
    "\n",
    "exp_median2 = pd.Series(np.array(exp2_dist_median)*1000, name=\"Exp. group Day 2\")\n",
    "\n",
    "con_median1 = pd.Series(np.array(con1_dist_median)*1000, name=\"Con. group Day 1\")\n",
    "\n",
    "con_median2 = pd.Series(np.array(con2_dist_median)*1000, name=\"Con. group Day 2\")\n",
    "\n",
    "mediandistanceframe = pd.concat([exp_median1, exp_median2, con_median1, con_median2], axis = 1)\n",
    "\n",
    "mediandistanceframe\n",
    "\n",
    "sns.set(rc={'figure.figsize':(11.7,8.27)})\n",
    "\n",
    "plt.axes(xlabel=\"Subjects\", ylabel=\"Distance in meters\")\n",
    "\n",
    "sns.boxplot(data=mediandistanceframe, palette=\"Set1\", saturation=1, linewidth=5, width=0.3)\n",
    "\n",
    "plt.savefig(\"distance_median_boxplots.png\")\n",
    "\n",
    "plt.show()\n"
   ]
  },
  {
   "cell_type": "code",
   "execution_count": 28,
   "metadata": {},
   "outputs": [],
   "source": [
    "#calculated in the speed script\n",
    "success_rate = {'exp1_1': 46.53846153846154, 'exp1_2': 49.6, 'exp2_1': 48.75, 'exp2_2': 57.599999999999994,\n",
    " 'exp3_1': 72.4, 'exp3_2': 63.6, 'exp4_1': 51.92307692307693, 'exp4_2': 61.2, 'con5_1': 27.692307692307693,\n",
    " 'con5_2': 31.0, 'con6_1': 67.08, 'con6_2': 41.04, 'con7_1': 28.958333333333336, 'con7_2': 33.4, 'con8_1': 23.2577233,\n",
    " 'con8_2': 30.4}\n",
    "\n",
    "def success_rate_lists():\n",
    "    \n",
    "    exp_success = []\n",
    "    con_success = []\n",
    "    \n",
    "    for k, v in success_rate.items():\n",
    "        n_v = v/1\n",
    "        success_rate[k] = n_v\n",
    "\n",
    "    for k, v in success_rate.items():\n",
    "        if k[:3] == 'exp':\n",
    "            exp_success.append(v)\n",
    "        \n",
    "        else:\n",
    "            con_success.append(v)\n",
    "    \n",
    "    exp_success_1 = exp_success[::2]\n",
    "    exp_success_2 = exp_success[1::2]\n",
    "    \n",
    "    con_success_1 = con_success[::2]\n",
    "    con_success_2 = con_success[1::2]\n",
    "    \n",
    "    overall_success_1 = exp_success_1 + con_success_1\n",
    "    overall_success_2 = exp_success_2 + con_success_2\n",
    "    \n",
    "    exp_success_all = exp_success_1 + exp_success_2\n",
    "    con_success_all = con_success_1 + con_success_2\n",
    "    \n",
    "    return overall_success_1, overall_success_2, exp_success_all, con_success_all"
   ]
  },
  {
   "cell_type": "code",
   "execution_count": 30,
   "metadata": {},
   "outputs": [
    {
     "data": {
      "image/png": "[encoded data removed]",
      "text/plain": [
       "<Figure size 842.4x595.44 with 1 Axes>"
      ]
     },
     "metadata": {},
     "output_type": "display_data"
    },
    {
     "data": {
      "text/plain": [
       "MannwhitneyuResult(statistic=7.0, pvalue=0.005040846941929832)"
      ]
     },
     "execution_count": 30,
     "metadata": {},
     "output_type": "execute_result"
    }
   ],
   "source": [
    "exp_group = success_rate_lists()[-2]\n",
    "con_group = success_rate_lists()[-1]\n",
    "\n",
    "sc_exp = pd.Series(exp_group, name= \"Experimental Group\")\n",
    "sc_con = pd.Series(con_group, name= \"Control Group\")\n",
    "\n",
    "df_sc = pd.concat([sc_exp, sc_con], axis = 1)\n",
    "\n",
    "sns.set(rc={'figure.figsize':(11.7,8.27)})\n",
    "\n",
    "plt.axes(xlabel=\"Subjects\", ylabel=\"Success Rate in %\")\n",
    "\n",
    "sns.boxplot(data=df_sc, palette=\"gnuplot2\", saturation=1, linewidth=5, width=0.3)\n",
    "\n",
    "plt.savefig(\"succesrate.png\")\n",
    "\n",
    "plt.show()\n",
    "\n",
    "sp.stats.mannwhitneyu(exp_group, con_group)\n",
    "#sp.stats.shapiro(con_group) exp not normally distributed"
   ]
  },
  {
   "cell_type": "code",
   "execution_count": null,
   "metadata": {},
   "outputs": [],
   "source": [
    "# linear progression of arm movements\n",
    "\n",
    "\n",
    "pathlist = [\"ArmConGroup\\\\Anna S\\\\Day 1\\\\log_arms.csv\", \"ArmConGroup\\\\Anna S\\\\Day 2\\\\log_arms.csv\",\n",
    "            \"ArmConGroup\\\\Emily\\\\Day 1\\\\log_arms.csv\", \"ArmConGroup\\\\Emily\\\\Day 2\\\\log_arms.csv\",\n",
    "            \"ArmConGroup\\\\Joseba\\\\Day 1\\\\log_arms.csv\", \"ArmConGroup\\\\Joseba\\\\Day 2\\\\log_arms.csv\",\n",
    "            \"ArmConGroup\\\\Yao\\\\Day 1\\\\log_arms.csv\", \"ArmConGroup\\\\Yao\\\\Day 2\\\\log_arms.csv\",             \n",
    "            \"ArmExpGroup\\\\Anna B\\\\Day 1\\\\log_arms.csv\", \"ArmExpGroup\\\\Anna B\\\\Day 2\\\\log_arms.csv\",\n",
    "            \"ArmExpGroup\\\\Anna G\\\\Day 1\\\\log_arms.csv\", \"ArmExpGroup\\\\Anna G\\\\Day 2\\\\log_arms.csv\",\n",
    "            \"ArmExpGroup\\\\Dimi\\\\Day 1\\\\log_arms.csv\", \"ArmExpGroup\\\\Dimi\\\\Day 2\\\\log_arms.csv\",\n",
    "            \"ArmExpGroup\\\\Natasha\\\\Day 1\\\\log_arms.csv\", \"ArmExpGroup\\\\Natasha\\\\Day 2\\log_arms.csv\"]  \n",
    "\n",
    "\n",
    "def progression(pathlist):\n",
    "    progr_dict = {}\n",
    "    for file in pathlist:\n",
    "        name = get_name(file)[0]\n",
    "        day = get_name(file)[1]\n",
    "        nameday = (subjectdictplots[name], day)\n",
    "        logarms = pd.read_csv(arm_logs_path + file, header=None, index_col=False)\n",
    "        arm_movements, timer = np.array(logarms[0]), np.array(logarms[1])\n",
    "        \n",
    "           \n",
    "        #progr_data = tuple(map(lambda *l:l, arm_movements, timer))\n",
    "        \n",
    "        progr_data = np.absolute(arm_movements), timer\n",
    "   \n",
    "        \n",
    "        progr_dict[nameday] = progr_data\n",
    "        \n",
    "    return progr_dict\n",
    "\n",
    "overall_prog = progression(pathlist)\n",
    "\n",
    "\n",
    "#overall_prog.keys()\n",
    "\n",
    "#return plt.plot(arm_movements, timer, label = \"Left Wrist\")"
   ]
  },
  {
   "cell_type": "code",
   "execution_count": null,
   "metadata": {},
   "outputs": [],
   "source": [
    "con1_day1 = overall_prog.get(('Con1', 'Day 1'))\n",
    "con1_day2 = overall_prog.get(('Con1', 'Day 2'))\n",
    "con2_day1 = overall_prog.get(('Con2', 'Day 1'))\n",
    "con2_day2 = overall_prog.get(('Con2', 'Day 2'))\n",
    "con3_day1 = overall_prog.get(('Con3', 'Day 1'))\n",
    "con3_day2 = overall_prog.get(('Con3', 'Day 2'))\n",
    "con4_day1 = overall_prog.get(('Con4', 'Day 1'))\n",
    "con4_day2 = overall_prog.get(('Con4', 'Day 2'))\n",
    "\n",
    "exp1_day1 = overall_prog.get(('Exp1', 'Day 1'))\n",
    "exp1_day2 = overall_prog.get(('Exp1', 'Day 2'))\n",
    "exp2_day1 = overall_prog.get(('Exp2', 'Day 1'))\n",
    "exp2_day2 = overall_prog.get(('Exp2', 'Day 2'))\n",
    "exp3_day1 = overall_prog.get(('Exp3', 'Day 1')) \n",
    "exp3_day2 = overall_prog.get(('Exp3', 'Day 2'))\n",
    "exp4_day1 = overall_prog.get(('Exp4', 'Day 1'))\n",
    "exp4_day2 = overall_prog.get(('Exp4', 'Day 2'))\n",
    "\n",
    "def plot_movements(subject):\n",
    "    \n",
    "    arm_movements, timer = subject[0], subject[1]\n",
    "    \n",
    "    sns.set(rc={'figure.figsize':(6.4, 4.8)})  # does it have to be with set\n",
    "    \n",
    "    plt.title('Control group - Subject 1 Day 1')\n",
    "    plt.xlabel(\"Time in seconds\") \n",
    "    plt.ylabel(\"Upper limb's position\")\n",
    "    plt.plot(timer, arm_movements)\n",
    "    plt.savefig(\"Movement progression over time Subject 1 Day 1.png\")\n",
    "    plt.show()\n",
    "    \n",
    "\n",
    "plot_movements(exp2_day2)\n",
    "\n"
   ]
  },
  {
   "cell_type": "code",
   "execution_count": null,
   "metadata": {},
   "outputs": [],
   "source": [
    "\n",
    "'''\n",
    "Current research seems to favor dosage over method, however this may be dismissing further studies into methodologies that \n",
    "could be further ironed out to supercede traditional therapy. \n",
    "'''\n",
    "\n",
    "#martina's and belen's possible counterargument\n",
    "\n",
    "'''\n",
    "\n",
    "'''"
   ]
  },
  {
   "cell_type": "code",
   "execution_count": null,
   "metadata": {},
   "outputs": [],
   "source": [
    "#One possible conclusion\n",
    "'''\n",
    "The study looks into brain activity during rhythm entrainment to possibly better existing rehabilitation protocols.\n",
    "This, however, solely touches upon motor learning and not other afflictions resulting after a stroke e.g. \n",
    "'''\n",
    "\n",
    "#rethink this statement. Based on research SPECS, overtraining may actually be an issue and experiment seems to corroborate\n",
    "#said thought\n",
    "\n",
    "'''\n",
    "Hemiplegia, impairment of coordination or\n",
    "balance, spasticity, apraxia, neglect, behavioral problems, neurogenic bladder and bowel, deconditioning,\n",
    "pressure sore, depression, and pain are all common\n",
    "conditions after stroke. All of these conditions should\n",
    "be considered when treating post-stroke patients, and\n",
    "same principle in motor training should be applied\n",
    "to neurorehabilitation of these impairments. \n",
    "'''"
   ]
  }
 ],
 "metadata": {
  "kernelspec": {
   "display_name": "Python 3",
   "language": "python",
   "name": "python3"
  },
  "language_info": {
   "codemirror_mode": {
    "name": "ipython",
    "version": 3
   },
   "file_extension": ".py",
   "mimetype": "text/x-python",
   "name": "python",
   "nbconvert_exporter": "python",
   "pygments_lexer": "ipython3",
   "version": "3.7.3"
  }
 },
 "nbformat": 4,
 "nbformat_minor": 2
}

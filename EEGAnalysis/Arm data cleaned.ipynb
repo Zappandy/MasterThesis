{
 "cells": [
  {
   "cell_type": "code",
   "execution_count": 6,
   "metadata": {},
   "outputs": [],
   "source": [
    "import pandas as pd"
   ]
  },
  {
   "cell_type": "code",
   "execution_count": 14,
   "metadata": {},
   "outputs": [],
   "source": [
    "def process_line(line):\n",
    "    x, y = line.split(\",\")\n",
    "    l, r = x.split(\"R\")\n",
    "    l = l[2:]\n",
    "    r = r[1:]\n",
    "    \n",
    "    return(l, r, y)\n",
    "\n",
    "path = \"C:\\\\Users\\\\USUARIO\\\\Documents\\\\Pompeu Fabra\\\\Analyzing EEG\\\\ArmExpGroup\\\\Wang\\\\Day 2\\\\\"\n",
    "\n",
    "logarms = open(path + \"log_arms.csv\")\n",
    "\n",
    "llist = []\n",
    "rlist = []\n",
    "tlist = []\n",
    "\n",
    "for line in logarms:\n",
    "    l, r, t = process_line(line)\n",
    "    llist.append(l)\n",
    "    rlist.append(r)\n",
    "    tlist.append(t.strip())\n",
    "    \n",
    "logarms.close()\n",
    "\n",
    "lseries = pd.Series(llist)\n",
    "rseries = pd.Series(rlist)\n",
    "tseries = pd.Series(tlist)\n",
    "\n",
    "lseries.name = \"Left\"\n",
    "lseries.name = \"Right\"\n",
    "lseries.name = \"Time\"\n",
    "\n",
    "newdataframe = pd.concat([lseries, rseries, tseries], axis=1)\n",
    "\n",
    "newdataframe.to_csv(\"logarmsfixed.csv\", header=False, index=False)"
   ]
  },
  {
   "cell_type": "code",
   "execution_count": null,
   "metadata": {},
   "outputs": [],
   "source": []
  }
 ],
 "metadata": {
  "kernelspec": {
   "display_name": "Python 3",
   "language": "python",
   "name": "python3"
  },
  "language_info": {
   "codemirror_mode": {
    "name": "ipython",
    "version": 3
   },
   "file_extension": ".py",
   "mimetype": "text/x-python",
   "name": "python",
   "nbconvert_exporter": "python",
   "pygments_lexer": "ipython3",
   "version": "3.7.3"
  }
 },
 "nbformat": 4,
 "nbformat_minor": 2
}
